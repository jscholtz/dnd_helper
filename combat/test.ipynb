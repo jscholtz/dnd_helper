{
 "cells": [
  {
   "cell_type": "code",
   "execution_count": 7,
   "metadata": {},
   "outputs": [],
   "source": [
    "import json\n",
    "from combatant import Combatant, StatBlock"
   ]
  },
  {
   "cell_type": "code",
   "execution_count": 4,
   "metadata": {},
   "outputs": [],
   "source": [
    "data = json.load(open(\"/home/jscholtz/projects/dnd_helper/data/bestiary/bestiary-mm.json\"))"
   ]
  },
  {
   "cell_type": "code",
   "execution_count": 5,
   "metadata": {},
   "outputs": [],
   "source": [
    "aara = data['monster'][0]"
   ]
  },
  {
   "cell_type": "code",
   "execution_count": 12,
   "metadata": {},
   "outputs": [
    {
     "name": "stdout",
     "output_type": "stream",
     "text": [
      "{'name': {'name': 'Aarakocra', 'size': 'M', 'type': {'type': 'humanoid', 'tags': ['aarakocra']}, 'source': 'MM', 'alignment': ['N', 'G'], 'ac': '12', 'hp': {'average': 13, 'formula': '3d8'}, 'speed': {'walk': 20, 'fly': 50}, 'str': 10, 'dex': 14, 'con': 10, 'int': 11, 'wis': 12, 'cha': 11, 'skill': {'perception': '+5'}, 'passive': 15, 'languages': 'Auran, Aarakocra', 'cr': '1/4', 'trait': [{'name': 'Dive Attack', 'entries': ['If the aarakocra is flying and dives at least 30 ft. straight toward a target and then hits it with a melee weapon attack, the attack deals an extra 3 ({@dice 1d6}) damage to the target.']}], 'action': [{'name': 'Talon', 'entries': ['Melee Weapon Attack: {@hit +4} to hit, reach 5 ft., one target. Hit: 4 ({@dice 1d4+2}) slashing damage.']}, {'name': 'Javelin', 'entries': ['Melee or Ranged Weapon Attack: {@hit +4} to hit, reach 5 ft. or range 30/120 ft., one target. Hit: 5 ({@dice 1d6+2}) piercing damage.']}, {'name': 'Summon Air Elemental', 'entries': [\"Five aarakocra within 30 feet of each other can magically summon an {@creature air elemental}. Each of the five must use its action and movement on three consecutive turns to perform an aerial dance and must maintain concentration while doing so (as if concentrating on a spell). When all five have finished their third turn of the dance, the elemental appears in an unoccupied space within 60 feet of them. It is friendly toward them and obeys their spoken commands. It remains for 1 hour, until it or all its summoners die, or until any of its summoners dismisses it as a bonus action. A summoner can't perform the dance again until it finishes a short rest. When the elemental returns to the Elemental Plane of Air, any aarakocra within 5 feet of it can return with it.\"]}], 'page': 12}, 'size': 'Medium', 'type': '', 'alignment': '', 'source': 'MM', 'armor_class': 10, 'armor_desc': None, 'hit_dice': '1d8', 'max_HP': 1, 'speed': {}, 'abilities': {'STR': 10, 'DEX': 10, 'CON': 10, 'INT': 10, 'WIS': 10, 'CHA': 10}, 'saves': {}, 'skills': {}, 'senses': '', 'passive_perception': 10, 'languages': '', 'challenge_rating': '0', 'traits': [], 'actions': [], 'legendary': [], 'legendary_group': None, 'page': None}\n"
     ]
    }
   ],
   "source": [
    "print(StatBlock(aara).to_dict())"
   ]
  },
  {
   "cell_type": "code",
   "execution_count": null,
   "metadata": {},
   "outputs": [],
   "source": []
  }
 ],
 "metadata": {
  "kernelspec": {
   "display_name": ".venv",
   "language": "python",
   "name": "python3"
  },
  "language_info": {
   "codemirror_mode": {
    "name": "ipython",
    "version": 3
   },
   "file_extension": ".py",
   "mimetype": "text/x-python",
   "name": "python",
   "nbconvert_exporter": "python",
   "pygments_lexer": "ipython3",
   "version": "3.12.10"
  }
 },
 "nbformat": 4,
 "nbformat_minor": 2
}
